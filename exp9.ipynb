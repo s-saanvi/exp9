import numpy as np, matplotlib.pyplot as plt
from sklearn.datasets import fetch_olivetti_faces
from sklearn.model_selection import train_test_split, cross_val_score
from sklearn.naive_bayes import GaussianNB
from sklearn.metrics import accuracy_score, classification_report, confusion_matrix

X, y = fetch_olivetti_faces(return_X_y=True, shuffle=True, random_state=42)
Xtr, Xte, ytr, yte = train_test_split(X, y, test_size=0.3, random_state=42)
model = GaussianNB().fit(Xtr, ytr)
yp = model.predict(Xte)

print(f"Acc: {accuracy_score(yte, yp)*100:.2f}%\n\nReport:\n{classification_report(yte, yp, zero_division=1)}\nCM:\n{confusion_matrix(yte, yp)}")
print(f"CV Acc: {cross_val_score(model, X, y, cv=5).mean()*100:.2f}%")

fig, axs = plt.subplots(3, 5, figsize=(12, 8))
for ax, img, t, p in zip(axs.ravel(), Xte, yte, yp):
    ax.imshow(img.reshape(64, 64), cmap='gray')
    ax.set_title(f"T:{t}, P:{p}"), ax.axis('off')
plt.tight_layout(), plt.show()
